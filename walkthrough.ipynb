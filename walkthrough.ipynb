{
 "cells": [
  {
   "cell_type": "code",
   "execution_count": 1,
   "metadata": {},
   "outputs": [],
   "source": [
    "import pandas as pd\n",
    "import numpy as np\n",
    "import torch\n",
    "import matplotlib.pyplot as plt\n",
    "from torch.utils.data import DataLoader, random_split, Subset\n",
    "\n",
    "from sklearn.preprocessing import MinMaxScaler\n",
    "\n",
    "from util.env import get_device, set_device\n",
    "from util.preprocess import build_loc_net, construct_data\n",
    "from util.net_struct import get_feature_map, get_fc_graph_struc\n",
    "from util.iostream import printsep\n",
    "\n",
    "from datasets.TimeDataset import TimeDataset\n",
    "\n",
    "\n",
    "# from models.GDN import GDN\n",
    "\n",
    "from train import train\n",
    "from test  import test\n",
    "from evaluate import get_err_scores, get_best_performance_data, get_val_performance_data, get_full_err_scores\n",
    "\n",
    "from get_data import fetchData\n",
    "\n",
    "import sys\n",
    "from datetime import datetime\n",
    "\n",
    "import os\n",
    "import argparse\n",
    "from pathlib import Path\n",
    "\n",
    "import matplotlib.pyplot as plt\n",
    "\n",
    "import json\n",
    "import random"
   ]
  },
  {
   "cell_type": "code",
   "execution_count": 2,
   "metadata": {},
   "outputs": [],
   "source": [
    "# Pull data from own psql database (has attack columns in)\n",
    "data = fetchData()"
   ]
  },
  {
   "cell_type": "code",
   "execution_count": 3,
   "metadata": {},
   "outputs": [],
   "source": [
    "# data"
   ]
  },
  {
   "cell_type": "code",
   "execution_count": 4,
   "metadata": {},
   "outputs": [],
   "source": [
    "train = data.sample(frac=0.6)\n",
    "test = data.drop(train.index)"
   ]
  },
  {
   "cell_type": "code",
   "execution_count": 5,
   "metadata": {},
   "outputs": [],
   "source": [
    "# train_orig = pd.read_csv(f'./data/swat/train.csv', sep=',', index_col=0)\n",
    "# test_orig = pd.read_csv(f'./data/swat/test.csv', sep=',', index_col=0)\n",
    "\n",
    "# train, test = train_orig, test_orig\n",
    "if 'Normal/Attack' in train.columns:\n",
    "    train = train.drop(columns=['Normal/Attack'])\n"
   ]
  },
  {
   "cell_type": "code",
   "execution_count": 6,
   "metadata": {},
   "outputs": [],
   "source": [
    "dataset = 'swat'\n",
    "feature_map = get_feature_map(dataset)\n",
    "fc_struc = get_fc_graph_struc(dataset)\n"
   ]
  },
  {
   "cell_type": "code",
   "execution_count": 7,
   "metadata": {},
   "outputs": [],
   "source": [
    "fc_edge_index = build_loc_net(fc_struc, list(train.columns), feature_map=feature_map)\n",
    "fc_edge_index = torch.tensor(fc_edge_index, dtype = torch.long)"
   ]
  },
  {
   "cell_type": "code",
   "execution_count": 9,
   "metadata": {},
   "outputs": [],
   "source": [
    "train_dataset_indata = construct_data(train, feature_map, labels=0)\n",
    "test_dataset_indata = construct_data(test, feature_map, labels=test[\"Normal/Attack\"].tolist())"
   ]
  },
  {
   "cell_type": "code",
   "execution_count": null,
   "metadata": {},
   "outputs": [],
   "source": []
  }
 ],
 "metadata": {
  "kernelspec": {
   "display_name": "visVenv",
   "language": "python",
   "name": "python3"
  },
  "language_info": {
   "codemirror_mode": {
    "name": "ipython",
    "version": 3
   },
   "file_extension": ".py",
   "mimetype": "text/x-python",
   "name": "python",
   "nbconvert_exporter": "python",
   "pygments_lexer": "ipython3",
   "version": "3.8.18"
  }
 },
 "nbformat": 4,
 "nbformat_minor": 2
}
