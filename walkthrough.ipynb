{
 "cells": [
  {
   "cell_type": "code",
   "execution_count": 19,
   "metadata": {},
   "outputs": [],
   "source": [
    "# Copyright (C) Analytics Engines 2024  | Peter Davison (p.davison@analyticsengines.com)\n",
    "\n",
    "import pandas as pd\n",
    "import numpy as np"
   ]
  },
  {
   "cell_type": "code",
   "execution_count": null,
   "metadata": {},
   "outputs": [],
   "source": [
    "train_orig = pd.read_csv(f'./data/swat/train.csv', sep=',', index_col=0)\n",
    "test_orig = pd.read_csv(f'./data/swat/test.csv', sep=',', index_col=0)\n",
    "\n",
    "train, test = train_orig, test_orig\n",
    "if 'attack' in train.columns:\n",
    "    train = train.drop(columns=['attack'])\n"
   ]
  },
  {
   "cell_type": "code",
   "execution_count": 40,
   "metadata": {},
   "outputs": [],
   "source": [
    "struc_map = {}\n",
    "feature_list = list(data.columns.values)\n",
    "feature_map = feature_list\n"
   ]
  },
  {
   "cell_type": "code",
   "execution_count": 42,
   "metadata": {},
   "outputs": [],
   "source": [
    "for ft in feature_list:\n",
    "        if ft not in struc_map:\n",
    "            struc_map[ft] = []\n",
    "\n",
    "        for other_ft in feature_list:\n",
    "            if other_ft is not ft:\n",
    "                struc_map[ft].append(other_ft)\n",
    "\n",
    "fc_struc = struc_map\n"
   ]
  },
  {
   "cell_type": "code",
   "execution_count": 43,
   "metadata": {},
   "outputs": [
    {
     "name": "stdout",
     "output_type": "stream",
     "text": [
      "{0: [1, 2, 3, 4, 5, 6, 7, 8, 9], 1: [0, 2, 3, 4, 5, 6, 7, 8, 9], 2: [0, 1, 3, 4, 5, 6, 7, 8, 9], 3: [0, 1, 2, 4, 5, 6, 7, 8, 9], 4: [0, 1, 2, 3, 5, 6, 7, 8, 9], 5: [0, 1, 2, 3, 4, 6, 7, 8, 9], 6: [0, 1, 2, 3, 4, 5, 7, 8, 9], 7: [0, 1, 2, 3, 4, 5, 6, 8, 9], 8: [0, 1, 2, 3, 4, 5, 6, 7, 9], 9: [0, 1, 2, 3, 4, 5, 6, 7, 8]}\n"
     ]
    }
   ],
   "source": [
    "print(fc_struc)"
   ]
  },
  {
   "cell_type": "code",
   "execution_count": 44,
   "metadata": {},
   "outputs": [],
   "source": [
    "def build_loc_net(struc, all_features, feature_map=[]):\n",
    "\n",
    "    index_feature_map = feature_map\n",
    "    edge_indexes = [\n",
    "        [],\n",
    "        []\n",
    "    ]\n",
    "    for node_name, node_list in struc.items():\n",
    "        if node_name not in all_features:\n",
    "            continue\n",
    "\n",
    "        if node_name not in index_feature_map:\n",
    "            index_feature_map.append(node_name)\n",
    "        \n",
    "        p_index = index_feature_map.index(node_name)\n",
    "        for child in node_list:\n",
    "            if child not in all_features:\n",
    "                continue\n",
    "\n",
    "            if child not in index_feature_map:\n",
    "                print(f'error: {child} not in index_feature_map')\n",
    "                # index_feature_map.append(child)\n",
    "\n",
    "            c_index = index_feature_map.index(child)\n",
    "            # edge_indexes[0].append(p_index)\n",
    "            # edge_indexes[1].append(c_index)\n",
    "            edge_indexes[0].append(c_index)\n",
    "            edge_indexes[1].append(p_index)\n",
    "        \n",
    "\n",
    "    \n",
    "    return edge_indexes"
   ]
  },
  {
   "cell_type": "code",
   "execution_count": 45,
   "metadata": {},
   "outputs": [],
   "source": [
    "import torch\n",
    "# fc_edge_index = build_loc_net(fc_struc, list(train.columns), feature_map=feature_map)\n",
    "fc_edge_index = build_loc_net(fc_struc, feature_list, feature_list)\n",
    "fc_edge_index = torch.tensor(fc_edge_index, dtype = torch.long)"
   ]
  },
  {
   "cell_type": "code",
   "execution_count": 46,
   "metadata": {},
   "outputs": [],
   "source": [
    "# train_dataset_indata = construct_data(train, feature_map, labels=0)\n",
    "# test_dataset_indata = construct_data(test, feature_map, labels=test.attack.tolist())\n",
    "from util.preprocess import construct_data\n",
    "\n",
    "\n",
    "train_dataset_indata = construct_data(train, feature_map, labels=0)\n",
    "test_dataset_indata = construct_data(test, feature_map, labels=test.attack.tolist())"
   ]
  },
  {
   "cell_type": "code",
   "execution_count": null,
   "metadata": {},
   "outputs": [],
   "source": []
  }
 ],
 "metadata": {
  "kernelspec": {
   "display_name": "visVenv",
   "language": "python",
   "name": "python3"
  },
  "language_info": {
   "codemirror_mode": {
    "name": "ipython",
    "version": 3
   },
   "file_extension": ".py",
   "mimetype": "text/x-python",
   "name": "python",
   "nbconvert_exporter": "python",
   "pygments_lexer": "ipython3",
   "version": "3.8.18"
  }
 },
 "nbformat": 4,
 "nbformat_minor": 2
}
