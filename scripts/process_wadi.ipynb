{
 "cells": [
  {
   "cell_type": "code",
   "execution_count": 1,
   "metadata": {},
   "outputs": [],
   "source": [
    "import numpy as np\n",
    "import pandas as pd\n",
    "import re\n",
    "from sklearn.preprocessing import MinMaxScaler\n",
    "\n"
   ]
  },
  {
   "cell_type": "code",
   "execution_count": 2,
   "metadata": {},
   "outputs": [],
   "source": [
    "# max min(0-1)\n",
    "def norm(train, test):\n",
    "\n",
    "    normalizer = MinMaxScaler(feature_range=(0, 1)).fit(train) # scale training data to [0,1] range\n",
    "    train_ret = normalizer.transform(train)\n",
    "    test_ret = normalizer.transform(test)\n",
    "\n",
    "    return train_ret, test_ret\n"
   ]
  },
  {
   "cell_type": "code",
   "execution_count": 3,
   "metadata": {},
   "outputs": [],
   "source": [
    "# downsample by 10\n",
    "def downsample(data, labels, down_len):\n",
    "    np_data = np.array(data)\n",
    "    np_labels = np.array(labels)\n",
    "\n",
    "    orig_len, col_num = np_data.shape\n",
    "\n",
    "    down_time_len = orig_len // down_len\n",
    "\n",
    "    np_data = np_data.transpose()\n",
    "    # print('before downsample', np_data.shape)\n",
    "\n",
    "    d_data = np_data[:, :down_time_len*down_len].reshape(col_num, -1, down_len)\n",
    "    d_data = np.median(d_data, axis=2).reshape(col_num, -1)\n",
    "\n",
    "    d_labels = np_labels[:down_time_len*down_len].reshape(-1, down_len)\n",
    "    # if exist anomalies, then this sample is abnormal\n",
    "    d_labels = np.round(np.max(d_labels, axis=1))\n",
    "\n",
    "    d_data = d_data.transpose()\n",
    "\n",
    "    # print('after downsample', d_data.shape, d_labels.shape)\n",
    "\n",
    "    return d_data.tolist(), d_labels.tolist()\n",
    "\n"
   ]
  },
  {
   "cell_type": "code",
   "execution_count": 4,
   "metadata": {},
   "outputs": [],
   "source": [
    "def main():\n",
    "\n",
    "    train = pd.read_csv('./WADI_14days.csv', index_col=0)\n",
    "    test = pd.read_csv('./WADI_attackdata_labelled.csv', index_col=0)\n",
    "    \n",
    "\n",
    "    train = train.iloc[:, 2:]\n",
    "    test = test.iloc[:, 3:]\n",
    "\n",
    "\n",
    "    train = train.fillna(train.mean())\n",
    "    test = test.fillna(test.mean())\n",
    "    train = train.fillna(0)\n",
    "    test = test.fillna(0)\n",
    "\n",
    "    # trim column names\n",
    "    train = train.rename(columns=lambda x: x.strip())\n",
    "    test = test.rename(columns=lambda x: x.strip())\n",
    "\n",
    "\n",
    "    train_labels = np.zeros(len(train))\n",
    "    test_labels = test.attack\n",
    "\n",
    "    # train = train.drop(columns=['attack'])\n",
    "    test = test.drop(columns=['attack'])\n",
    "\n",
    "    cols = [x[46:] for x in train.columns] # remove column name prefixes\n",
    "    train.columns = cols\n",
    "    test.columns = cols\n",
    "\n",
    "\n",
    "    x_train, x_test = norm(train.values, test.values)\n",
    "\n",
    "\n",
    "    for i, col in enumerate(train.columns):\n",
    "        train.loc[:, col] = x_train[:, i]\n",
    "        test.loc[:, col] = x_test[:, i]\n",
    "\n",
    "\n",
    "\n",
    "    d_train_x, d_train_labels = downsample(train.values, train_labels, 10)\n",
    "    d_test_x, d_test_labels = downsample(test.values, test_labels, 10)\n",
    "\n",
    "    train_df = pd.DataFrame(d_train_x, columns = train.columns)\n",
    "    test_df = pd.DataFrame(d_test_x, columns = test.columns)\n",
    "\n",
    "\n",
    "    test_df['attack'] = d_test_labels\n",
    "    train_df['attack'] = d_train_labels\n",
    "\n",
    "    train_df = train_df.iloc[2160:]\n",
    "\n",
    "    train_df.to_csv('./train.csv')\n",
    "    test_df.to_csv('./test.csv')\n",
    "\n",
    "    f = open('./list.txt', 'w')\n",
    "    for col in train.columns:\n",
    "        f.write(col+'\\n')\n",
    "    f.close()\n"
   ]
  },
  {
   "cell_type": "code",
   "execution_count": null,
   "metadata": {},
   "outputs": [],
   "source": [
    "if __name__ == '__main__':\n",
    "    main()\n"
   ]
  }
 ],
 "metadata": {
  "kernelspec": {
   "display_name": "venv",
   "language": "python",
   "name": "python3"
  },
  "language_info": {
   "codemirror_mode": {
    "name": "ipython",
    "version": 3
   },
   "file_extension": ".py",
   "mimetype": "text/x-python",
   "name": "python",
   "nbconvert_exporter": "python",
   "pygments_lexer": "ipython3",
   "version": "3.8.18"
  }
 },
 "nbformat": 4,
 "nbformat_minor": 2
}
